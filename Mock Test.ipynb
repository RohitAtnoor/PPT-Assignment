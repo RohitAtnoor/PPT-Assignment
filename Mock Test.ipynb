{
 "cells": [
  {
   "cell_type": "code",
   "execution_count": 17,
   "id": "ba6bb208-b4e7-4243-94e2-8b4dd53f84da",
   "metadata": {},
   "outputs": [
    {
     "name": "stdout",
     "output_type": "stream",
     "text": [
      "[1, 3, 12, 0, 0]\n",
      "[0]\n",
      "[1, 2, 3, 4, 0, 0, 0, 0]\n"
     ]
    }
   ],
   "source": [
    "\"\"\"\n",
    "1. Given an integer array nums, move all 0's to the end of it while maintaining the relative order of the non-zero elements.\n",
    "\n",
    "Note that you must do this in-place without making a copy of the array.\n",
    "\n",
    "Example 1:\n",
    "Input: nums = [0,1,0,3,12]\n",
    "Output: [1,3,12,0,0]\n",
    "\n",
    "Example 2:\n",
    "Input: nums = [0]\n",
    "Output: [0]\n",
    "\n",
    "Constraints:\n",
    "a. 1 <= nums.length <= 10^4\n",
    "b. -2^31 <= nums[i] <= 2^31 - 1\n",
    "\n",
    "Note: Create a GitHub file for the solution and add the file link the the answer section below.\n",
    "\"\"\"\n",
    "\n",
    "def move_nums(nums) :\n",
    "    for i in nums :\n",
    "        if i == 0 :  \n",
    "            nums.append(0)\n",
    "            nums.remove(i)\n",
    "        else :\n",
    "            continue \n",
    "    return nums\n",
    "\n",
    "# Example 1\n",
    "array = [0, 1, 0, 3, 12]\n",
    "print(move_nums(array))\n",
    "\n",
    "# Example 2\n",
    "array1 = [0]\n",
    "print(move_nums(array1))\n",
    "\n",
    "# Example 3\n",
    "array2 = [1,0,2,0,3,0,4,0]\n",
    "print(move_nums(array2))"
   ]
  },
  {
   "cell_type": "code",
   "execution_count": 21,
   "id": "c8de1b73-d067-42ce-9459-ccb846ff673d",
   "metadata": {},
   "outputs": [
    {
     "name": "stdout",
     "output_type": "stream",
     "text": [
      "0\n",
      "2\n",
      "-1\n"
     ]
    }
   ],
   "source": [
    "\"\"\"\n",
    "2. Given a string s, find the first non-repeating character in it and return its index. If it does not exist, return -1.\n",
    "\n",
    "Example 1:\n",
    "Input: s = \"leetcode\"\n",
    "Output: 0\n",
    "\n",
    "Example 2:\n",
    "Input: s = \"loveleetcode\"\n",
    "Output: 2\n",
    "\n",
    "Example 3:\n",
    "Input: s = \"aabb\"\n",
    "Output: -1\n",
    "\n",
    "Constraints:\n",
    "a. 1 <= s.length <= 10^5\n",
    "b. s consists of only lowercase English letters.\n",
    "\n",
    "Note: Create a GitHub file for the solution and add the file link the the answer section below.\n",
    "\"\"\"\n",
    "\n",
    "def firstUniqChar(s):\n",
    "    char_count = {}\n",
    "\n",
    "    for char in s:\n",
    "        char_count[char] = char_count.get(char, 0) + 1\n",
    "\n",
    "    for i, char in enumerate(s):\n",
    "        if char_count[char] == 1:\n",
    "            return i\n",
    "    return -1\n",
    "\n",
    "# Example 1 \n",
    "s = \"leetcode\"\n",
    "index = firstUniqChar(s)\n",
    "print(index)\n",
    "\n",
    "# Exampele 2\n",
    "s = \"loveleetcode\"\n",
    "index = firstUniqChar(s)\n",
    "print(index)\n",
    "\n",
    "# Example 3\n",
    "s = \"aabb\"\n",
    "index = firstUniqChar(s)\n",
    "print(index)"
   ]
  },
  {
   "cell_type": "code",
   "execution_count": null,
   "id": "58b8f3d6-74c5-4c67-bc99-08d67cf3fb8d",
   "metadata": {},
   "outputs": [],
   "source": []
  }
 ],
 "metadata": {
  "kernelspec": {
   "display_name": "Python 3 (ipykernel)",
   "language": "python",
   "name": "python3"
  },
  "language_info": {
   "codemirror_mode": {
    "name": "ipython",
    "version": 3
   },
   "file_extension": ".py",
   "mimetype": "text/x-python",
   "name": "python",
   "nbconvert_exporter": "python",
   "pygments_lexer": "ipython3",
   "version": "3.10.6"
  }
 },
 "nbformat": 4,
 "nbformat_minor": 5
}
