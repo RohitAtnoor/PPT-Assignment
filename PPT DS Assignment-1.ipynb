{
 "cells": [
  {
   "cell_type": "code",
   "execution_count": 1,
   "id": "3e03aa1b-56cb-454b-a103-e5d5da14cc58",
   "metadata": {},
   "outputs": [
    {
     "data": {
      "text/plain": [
       "'olleH'"
      ]
     },
     "execution_count": 1,
     "metadata": {},
     "output_type": "execute_result"
    }
   ],
   "source": [
    "# 1. Write a Python program to reverse a string without using any built-in string reversal functions.\n",
    "\n",
    "string = \"Hello\"\n",
    "# string[::-1]\n",
    "\n",
    "def rev_str(string):\n",
    "    reverse_str = \"\"\n",
    "    for i in string:\n",
    "        reverse_str=i+reverse_str\n",
    "    \n",
    "    return reverse_str\n",
    "\n",
    "rev_str(string)"
   ]
  },
  {
   "cell_type": "code",
   "execution_count": 2,
   "id": "3187a854-ff3a-4cf6-805e-72c75a865e30",
   "metadata": {},
   "outputs": [
    {
     "name": "stdout",
     "output_type": "stream",
     "text": [
      "The given string is a palaindrom\n"
     ]
    }
   ],
   "source": [
    "# 2. Implement a function to check if a given string is a palindrome.\n",
    "\n",
    "\n",
    "def check_palindrom(string):\n",
    "    rev_str = string[::-1].lower()\n",
    "    if string.lower() == rev_str :\n",
    "        print(\"The given string is a palaindrom\")\n",
    "    else :\n",
    "        print(\"The string is not a Palaindrom\")\n",
    "\n",
    "string = \"madam\"        \n",
    "check_palindrom(string)"
   ]
  },
  {
   "cell_type": "code",
   "execution_count": 3,
   "id": "d3de1c45-a421-462b-8793-eab2ba8c14d3",
   "metadata": {},
   "outputs": [
    {
     "data": {
      "text/plain": [
       "6"
      ]
     },
     "execution_count": 3,
     "metadata": {},
     "output_type": "execute_result"
    }
   ],
   "source": [
    "#3. Write a program to find the largest element in a given list.\n",
    "\n",
    "def max_num(List) :\n",
    "    \n",
    "    return max(List)\n",
    "\n",
    "a = [1,4,2,5,6]\n",
    "max_num(a)"
   ]
  },
  {
   "cell_type": "code",
   "execution_count": 4,
   "id": "502e8467-79eb-4c38-a0b0-11aaddbd5e6b",
   "metadata": {},
   "outputs": [
    {
     "data": {
      "text/plain": [
       "{1: 2, 2: 2, 3: 2, 4: 1, 5: 1, 6: 1, 7: 1, 8: 1, 9: 1, 10: 1}"
      ]
     },
     "execution_count": 4,
     "metadata": {},
     "output_type": "execute_result"
    }
   ],
   "source": [
    "# 4. Implement a function to count the occurrence of each element in a list.\n",
    "\n",
    "def count_occurrences(list_input):\n",
    "    occurrence_counts = {}\n",
    "    for element in list_input:\n",
    "        if element in occurrence_counts:\n",
    "            occurrence_counts[element] += 1\n",
    "        else:\n",
    "            occurrence_counts[element] = 1\n",
    "    return occurrence_counts\n",
    "\n",
    "list_input = [1, 2, 3, 1, 2, 3, 4, 5, 6, 7, 8, 9, 10]\n",
    "count_occurrences(list_input)"
   ]
  },
  {
   "cell_type": "code",
   "execution_count": 5,
   "id": "3e7408b3-90a1-4622-88a0-97cbe57f292f",
   "metadata": {},
   "outputs": [
    {
     "data": {
      "text/plain": [
       "34"
      ]
     },
     "execution_count": 5,
     "metadata": {},
     "output_type": "execute_result"
    }
   ],
   "source": [
    "# 5. Write a Python program to find the second largest number in a list.\n",
    "\n",
    "def second_largest(List) :\n",
    "    \n",
    "    a = sorted(List)\n",
    "    return a[-2]\n",
    "\n",
    "List = [1,3,6,2,7,5,21,34,23,43]\n",
    "second_largest(List)"
   ]
  },
  {
   "cell_type": "code",
   "execution_count": 6,
   "id": "0abd020a-9749-4714-bef9-3fc5747ede47",
   "metadata": {},
   "outputs": [
    {
     "name": "stdout",
     "output_type": "stream",
     "text": [
      "[1, 2, 3, 4, 5, 6, 7, 8, 9]\n",
      "\n"
     ]
    },
    {
     "data": {
      "text/plain": [
       "[1, 2, 3, 4, 5, 6, 8, 7, 9]"
      ]
     },
     "execution_count": 6,
     "metadata": {},
     "output_type": "execute_result"
    }
   ],
   "source": [
    "# 6. Implement a function to remove duplicate elements from a list.\n",
    "\n",
    "# method 1\n",
    "List = [1,2,3,4,2,5,1,3,2,5,3,1,6,3,8,7,6,9]\n",
    "a = set(List)\n",
    "new_list1 = list(a)\n",
    "print(new_list1)\n",
    "print()\n",
    "# Method 2\n",
    "\n",
    "def remove_duplicate(List):\n",
    "\n",
    "    new_list2 = []\n",
    "    for i in List:\n",
    "        if i in new_list2 :\n",
    "            continue\n",
    "        else :\n",
    "            new_list2.append(i)\n",
    "    return new_list2\n",
    "\n",
    "List = [1,2,3,4,2,5,1,3,2,5,3,1,6,3,8,7,6,9]\n",
    "remove_duplicate(List)"
   ]
  },
  {
   "cell_type": "code",
   "execution_count": 7,
   "id": "5c7ab535-d059-4ee0-b5c8-f5cc53e4a0ae",
   "metadata": {},
   "outputs": [
    {
     "data": {
      "text/plain": [
       "120"
      ]
     },
     "execution_count": 7,
     "metadata": {},
     "output_type": "execute_result"
    }
   ],
   "source": [
    "# 7. Write a program to calculate the factorial of a given number.\n",
    "\n",
    "def factorial(n):\n",
    "    \n",
    "    if n == 0:\n",
    "        return 1\n",
    "    else:\n",
    "        return n * factorial(n - 1)\n",
    "\n",
    "\n",
    "factorial(5)\n",
    "     "
   ]
  },
  {
   "cell_type": "code",
   "execution_count": 8,
   "id": "0f3257d2-b372-4889-8938-681283b9f2f4",
   "metadata": {},
   "outputs": [
    {
     "data": {
      "text/plain": [
       "True"
      ]
     },
     "execution_count": 8,
     "metadata": {},
     "output_type": "execute_result"
    }
   ],
   "source": [
    "# 8. Implement a function to check if a given number is prime\n",
    "\n",
    "import math\n",
    "\n",
    "def is_prime(n):\n",
    "    if n < 2:\n",
    "        return False\n",
    "    \n",
    "    for i in range(2, int(math.sqrt(n)) + 1):\n",
    "        if n % i == 0:\n",
    "            return False\n",
    "    \n",
    "    return True\n",
    "\n",
    "is_prime(5)"
   ]
  },
  {
   "cell_type": "code",
   "execution_count": 9,
   "id": "d3508ab6-c0b7-4bcf-a37b-6c8a4614b772",
   "metadata": {},
   "outputs": [
    {
     "name": "stdout",
     "output_type": "stream",
     "text": [
      "[1, 2, 3, 6, 8, 9]\n",
      "\n",
      "[1, 2, 3, 6, 8, 9]\n"
     ]
    }
   ],
   "source": [
    "# 9. Write a Python program to sort a list of integers in ascending order.\n",
    "\n",
    "# method 1\n",
    "def selection_sort(arr):\n",
    "    n = len(arr)\n",
    "    \n",
    "    for i in range(n - 1):\n",
    "        min_index = i\n",
    "        for j in range(i + 1, n):\n",
    "            if arr[j] < arr[min_index]:\n",
    "                min_index = j\n",
    "        \n",
    "        arr[i], arr[min_index] = arr[min_index], arr[i]\n",
    "    \n",
    "    return arr\n",
    "\n",
    "n = [1,2,6,3,8,9]\n",
    "print(selection_sort(n))\n",
    "print()\n",
    "\n",
    "# Method 2\n",
    "print(sorted(n))"
   ]
  },
  {
   "cell_type": "code",
   "execution_count": 10,
   "id": "ef86f5c9-6998-4223-81d6-a92091150640",
   "metadata": {},
   "outputs": [
    {
     "data": {
      "text/plain": [
       "40"
      ]
     },
     "execution_count": 10,
     "metadata": {},
     "output_type": "execute_result"
    }
   ],
   "source": [
    "# 10. Implement a function to find the sum of all numbers in a list\n",
    "\n",
    "def sum_list(List):\n",
    "    summ = 0\n",
    "    for i in List:\n",
    "        summ=summ+i\n",
    "    \n",
    "    return summ\n",
    "\n",
    "List = [1,3,4,5,6,7,10,0,1,3]\n",
    "sum_list(List)"
   ]
  },
  {
   "cell_type": "code",
   "execution_count": 11,
   "id": "e4da4847-9b38-4355-b216-b2412a93ca1b",
   "metadata": {},
   "outputs": [
    {
     "data": {
      "text/plain": [
       "[2, 4, 5, 6]"
      ]
     },
     "execution_count": 11,
     "metadata": {},
     "output_type": "execute_result"
    }
   ],
   "source": [
    "# 11. Write a program to find the common elements between two lists.\n",
    "\n",
    "def com_ele(List1,List2) :\n",
    "    comman_ele = []\n",
    "    for i in List1:\n",
    "        if i in List2 :\n",
    "            comman_ele.append(i)\n",
    "    \n",
    "    return comman_ele\n",
    "\n",
    "List1 = [1,2,3,4,5,6,11]\n",
    "List2 = [4,5,6,7,8,9,2,10]\n",
    "com_ele(List1,List2)"
   ]
  },
  {
   "cell_type": "code",
   "execution_count": 12,
   "id": "1b547d1a-c166-4ca7-932c-de05da25bc37",
   "metadata": {},
   "outputs": [
    {
     "name": "stdout",
     "output_type": "stream",
     "text": [
      "Counter({'a': 1, 'b': 1, 'c': 1})\n",
      "Counter({'b': 1, 'c': 1, 'a': 1})\n",
      "The strings are anagrams.\n"
     ]
    }
   ],
   "source": [
    "# 12. Implement a function to check if a given string is an anagram of another string.\n",
    "\n",
    "# Anagram program in python is when strings share the same no of characters and also the same characters \n",
    "# then strings are called anagrams (same characters in string 1 and string 2)\n",
    "from collections import Counter\n",
    "\n",
    "def check(s1, s2):\n",
    "    # printing counter\n",
    "    print(Counter(s1))\n",
    "    print(Counter(s2))\n",
    "    # implementing counter function\n",
    "    if Counter(s1) == Counter(s2):\n",
    "        print(\"The strings are anagrams.\")\n",
    "    else:\n",
    "        print(\"The strings aren't anagrams.\")\n",
    "\n",
    "\n",
    "# driver code\n",
    "s1 = \"abc\"\n",
    "s2 = \"bca\"\n",
    "check(s1.lower(), s2.lower())"
   ]
  },
  {
   "cell_type": "code",
   "execution_count": 13,
   "id": "e8353e14-4976-40ff-afe8-53a8c8082ced",
   "metadata": {},
   "outputs": [
    {
     "name": "stdout",
     "output_type": "stream",
     "text": [
      "ABC\n",
      "ACB\n",
      "BAC\n",
      "BCA\n",
      "CBA\n",
      "CAB\n"
     ]
    }
   ],
   "source": [
    "# 13. Write a Python program to generate all permutations of a given string.\n",
    "\n",
    "def permute_string(string):\n",
    "    permutations = []\n",
    "    permute_helper(string, 0, len(string) - 1, permutations)\n",
    "    return permutations\n",
    "\n",
    "\n",
    "def permute_helper(string, start, end, permutations):\n",
    "    if start == end:\n",
    "        permutations.append(''.join(string))\n",
    "    else:\n",
    "        for i in range(start, end + 1):\n",
    "            string[start], string[i] = string[i], string[start]\n",
    "            permute_helper(string, start + 1, end, permutations)\n",
    "            string[start], string[i] = string[i], string[start]  # backtrack\n",
    "\n",
    "\n",
    "# Example usage\n",
    "string = \"ABC\"\n",
    "permutations = permute_string(list(string))\n",
    "for permutation in permutations:\n",
    "    print(permutation)\n"
   ]
  },
  {
   "cell_type": "code",
   "execution_count": 14,
   "id": "06a306ae-2001-45f3-a00c-9e35fe6dc612",
   "metadata": {},
   "outputs": [
    {
     "data": {
      "text/plain": [
       "[0, 1, 1, 2, 3, 5, 8, 13, 21, 34]"
      ]
     },
     "execution_count": 14,
     "metadata": {},
     "output_type": "execute_result"
    }
   ],
   "source": [
    "# 14. Implement a function to calculate the Fibonacci sequence up to a given number of terms.\n",
    "\n",
    "def fibonacci(n):\n",
    "    sequence = [0, 1]  # Initialize the sequence with the first two numbers\n",
    "\n",
    "    while len(sequence) < n:\n",
    "        next_number = sequence[-1] + sequence[-2]  # Calculate the next number\n",
    "        sequence.append(next_number)  # Add the next number to the sequence\n",
    "\n",
    "    return sequence\n",
    "\n",
    "length = 10  # Specify the length of the Fibonacci sequence\n",
    "fibonacci(length)"
   ]
  },
  {
   "cell_type": "code",
   "execution_count": 15,
   "id": "195995cc-fad7-4af2-ad74-e49f451aacba",
   "metadata": {},
   "outputs": [
    {
     "name": "stdout",
     "output_type": "stream",
     "text": [
      "4.5\n"
     ]
    }
   ],
   "source": [
    "# 15. Write a program to find the median of a list of numbers.\n",
    "\n",
    "def find_median(numbers):\n",
    "    numbers.sort()  # Sort the list in ascending order\n",
    "    n = len(numbers)\n",
    "    if n % 2 == 1:\n",
    "        median = numbers[n // 2]  # Odd length: middle element\n",
    "    else:\n",
    "        middle_right = n // 2\n",
    "        middle_left = middle_right - 1\n",
    "        median = (numbers[middle_left] + numbers[middle_right]) / 2  # Even length: average of middle elements\n",
    "    return median\n",
    "\n",
    "numbers = [7, 2, 5, 1, 8, 4]\n",
    "median = find_median(numbers)\n",
    "print(median) "
   ]
  },
  {
   "cell_type": "code",
   "execution_count": 16,
   "id": "11763005-125c-42e9-951b-2f2dddc879d1",
   "metadata": {},
   "outputs": [
    {
     "name": "stdout",
     "output_type": "stream",
     "text": [
      "The List is in Desending order\n"
     ]
    }
   ],
   "source": [
    "# 16. Implement a function to check if a given list is sorted in non-decreasing order.\n",
    "\n",
    "def des_check(List):\n",
    "    \n",
    "    if List == sorted(List,reverse=True):\n",
    "        print(\"The List is in Desending order\")\n",
    "        \n",
    "    else:\n",
    "        print(\"The List is not sorted in Desending Order\")\n",
    "        \n",
    "List = [8,6,4,3,1]\n",
    "des_check(List)"
   ]
  },
  {
   "cell_type": "code",
   "execution_count": 17,
   "id": "81b4c254-a80c-4da5-9103-7125f3bfafea",
   "metadata": {},
   "outputs": [
    {
     "data": {
      "text/plain": [
       "[9, 10, 5, 4, 9]"
      ]
     },
     "execution_count": 17,
     "metadata": {},
     "output_type": "execute_result"
    }
   ],
   "source": [
    "# 17. Write a Python program to find the intersection of two lists.\n",
    "\n",
    "def com_ele(List1,List2) :\n",
    "    comman_ele = []\n",
    "    for i in List1:\n",
    "        if i in List2 :\n",
    "            comman_ele.append(i)\n",
    "    \n",
    "    return comman_ele\n",
    "\n",
    "List1 = [15, 9, 10, 56, 23, 78, 5, 4, 9]\n",
    "List2 = [9, 4, 5, 36, 47, 26, 10, 45, 87]\n",
    "com_ele(List1,List2)"
   ]
  },
  {
   "cell_type": "code",
   "execution_count": 18,
   "id": "50da7bca-4b27-4ebc-818f-6aba1ca47d02",
   "metadata": {},
   "outputs": [
    {
     "name": "stdout",
     "output_type": "stream",
     "text": [
      "6\n"
     ]
    }
   ],
   "source": [
    "# 18. Implement a function to find the maximum subarray sum in a given list.\n",
    "\n",
    "def max_subarray_sum(numbers):\n",
    "    if len(numbers) == 0:\n",
    "        return 0\n",
    "    \n",
    "    max_sum = numbers[0]  # Initialize max_sum as the first element\n",
    "    current_sum = numbers[0]  # Initialize current_sum as the first element\n",
    "    \n",
    "    for num in numbers[1:]:\n",
    "        current_sum = max(num, current_sum + num)\n",
    "        max_sum = max(max_sum, current_sum)\n",
    "    \n",
    "    return max_sum\n",
    "\n",
    "numbers = [-2, 1, -3, 4, -1, 2, 1, -5, 4]\n",
    "max_sum = max_subarray_sum(numbers)\n",
    "print(max_sum) \n"
   ]
  },
  {
   "cell_type": "code",
   "execution_count": 19,
   "id": "93f076f0-283d-44dd-93fd-f2354c496635",
   "metadata": {},
   "outputs": [
    {
     "data": {
      "text/plain": [
       "'hll nrn'"
      ]
     },
     "execution_count": 19,
     "metadata": {},
     "output_type": "execute_result"
    }
   ],
   "source": [
    "# 19. Write a program to remove all vowels from a given string.\n",
    "\n",
    "def remove_vowel(string):\n",
    "    \n",
    "    vowels = [\"a\",\"e\",\"i\",\"o\",\"u\"]\n",
    "    new_str = \"\"\n",
    "    \n",
    "    for alp in string.lower() :\n",
    "        \n",
    "        if alp in vowels:\n",
    "            continue   \n",
    "        else:\n",
    "            new_str=new_str+alp\n",
    "    return new_str\n",
    "\n",
    "string = \"Hello Ineuron\"\n",
    "remove_vowel(string)"
   ]
  },
  {
   "cell_type": "code",
   "execution_count": 20,
   "id": "ee8a0e99-823c-4892-8214-f928b705f467",
   "metadata": {},
   "outputs": [
    {
     "data": {
      "text/plain": [
       "'tnemngissA nohtyP si sihT enoyrevE olleH'"
      ]
     },
     "execution_count": 20,
     "metadata": {},
     "output_type": "execute_result"
    }
   ],
   "source": [
    "# 20. Implement a function to reverse the order of words in a given sentence.\n",
    "\n",
    "sen = \"Hello Everyone This is Python Assignment\"\n",
    "sen[::-1]"
   ]
  },
  {
   "cell_type": "code",
   "execution_count": 21,
   "id": "2eafa3ba-642f-4184-8684-22997f42bdd4",
   "metadata": {},
   "outputs": [
    {
     "name": "stdout",
     "output_type": "stream",
     "text": [
      "Counter({'o': 2, 'b': 1, 'k': 1})\n",
      "Counter({'o': 2, 'k': 1, 'b': 1})\n",
      "The strings are anagrams.\n"
     ]
    }
   ],
   "source": [
    "# 21. Write a Python program to check if two strings are anagrams of each other.\n",
    "\n",
    "from collections import Counter\n",
    "\n",
    "def check(s1, s2):\n",
    "    # printing counter\n",
    "    print(Counter(s1))\n",
    "    print(Counter(s2))\n",
    "    # implementing counter function\n",
    "    if Counter(s1) == Counter(s2):\n",
    "        print(\"The strings are anagrams.\")\n",
    "    else:\n",
    "        print(\"The strings aren't anagrams.\")\n",
    "\n",
    "\n",
    "# driver code\n",
    "s1 = \"book\"\n",
    "s2 = \"ookb\"\n",
    "check(s1.lower(), s2.lower())"
   ]
  },
  {
   "cell_type": "code",
   "execution_count": 22,
   "id": "3c89ffb4-b429-4f29-8a1d-15619c0a23a1",
   "metadata": {},
   "outputs": [
    {
     "name": "stdout",
     "output_type": "stream",
     "text": [
      "H\n"
     ]
    }
   ],
   "source": [
    "#  22. Implement a function to find the first non-repeating character in a string.\n",
    "\n",
    "def first_non_repeating_char(string):\n",
    "    char_count = {}\n",
    "    \n",
    "    # Count the occurrence of each character\n",
    "    for char in string:\n",
    "        char_count[char] = char_count.get(char, 0) + 1\n",
    "    \n",
    "    # Find the first non-repeating character\n",
    "    for char in string:\n",
    "        if char_count[char] == 1:\n",
    "            return char\n",
    "    \n",
    "    return None  # Return None if no non-repeating character is found\n",
    "\n",
    "\n",
    "# Example usage\n",
    "string = \"Hello\"\n",
    "first_non_repeating = first_non_repeating_char(string)\n",
    "print(first_non_repeating)  # Output: \"c\"\n"
   ]
  },
  {
   "cell_type": "code",
   "execution_count": 23,
   "id": "27723b2f-cd6d-4ce7-8a93-c18439cdb014",
   "metadata": {},
   "outputs": [
    {
     "name": "stdout",
     "output_type": "stream",
     "text": [
      "3\n",
      "3\n",
      "5\n",
      "7\n"
     ]
    }
   ],
   "source": [
    "# 23. Write a program to find the prime factors of a given number.\n",
    "\n",
    "import math\n",
    " \n",
    "# A function to print all prime factors of\n",
    "# a given number n\n",
    "def primeFactors(n):\n",
    "     \n",
    "    # Print the number of two's that divide n\n",
    "    while n % 2 == 0:\n",
    "        print (2),\n",
    "        n = n / 2\n",
    "         \n",
    "    # n must be odd at this point\n",
    "    # so a skip of 2 ( i = i + 2) can be used\n",
    "    for i in range(3, int(math.sqrt(n))+1, 2):\n",
    "         \n",
    "        # while i divides n, print i ad divide n\n",
    "        while n % i == 0:\n",
    "            print (i),\n",
    "            n = n / i\n",
    "             \n",
    "    # Condition if n is a prime\n",
    "    # number greater than 2\n",
    "    if n > 2:\n",
    "        print (n)\n",
    "         \n",
    "# Driver Program to test above function\n",
    " \n",
    "n = 315\n",
    "primeFactors(n)\n"
   ]
  },
  {
   "cell_type": "code",
   "execution_count": 24,
   "id": "4bb2c13a-214f-40ad-b551-d65b504bb257",
   "metadata": {},
   "outputs": [
    {
     "data": {
      "text/plain": [
       "True"
      ]
     },
     "execution_count": 24,
     "metadata": {},
     "output_type": "execute_result"
    }
   ],
   "source": [
    "# 24. Implement a function to check if a given number is a power of two.\n",
    "\n",
    "def is_power_of_two(n):\n",
    "    if n <= 0:\n",
    "        return False\n",
    "    while n > 1:\n",
    "        if n % 2 != 0:\n",
    "            return False\n",
    "        n //= 2\n",
    "    return True\n",
    "\n",
    "is_power_of_two(32)    "
   ]
  },
  {
   "cell_type": "code",
   "execution_count": 25,
   "id": "abb732c9-112c-4906-9b2f-f60635923e6d",
   "metadata": {},
   "outputs": [
    {
     "data": {
      "text/plain": [
       "[1, 2, 2, 2, 3, 3, 4, 5, 5, 5, 5, 7, 7, 8, 8, 9]"
      ]
     },
     "execution_count": 25,
     "metadata": {},
     "output_type": "execute_result"
    }
   ],
   "source": [
    "# 25. Write a Python program to merge two sorted lists into a single sorted list.\n",
    "\n",
    "def single_sort_list(List1,List2):\n",
    "    \n",
    "    for i in sorted(List1):\n",
    "        List2.append(i)\n",
    "        \n",
    "    return sorted(List2)\n",
    "\n",
    "List1 = [1,4,2,5,7,3,5,8]\n",
    "List2 = [2,3,9,5,8,7,2,5]\n",
    "single_sort_list(List1,List2)\n"
   ]
  },
  {
   "cell_type": "code",
   "execution_count": 26,
   "id": "b094cffb-53f4-40fe-8e97-9cba16c64630",
   "metadata": {},
   "outputs": [
    {
     "data": {
      "text/plain": [
       "[5]"
      ]
     },
     "execution_count": 26,
     "metadata": {},
     "output_type": "execute_result"
    }
   ],
   "source": [
    "# 26. Implement a function to find the mode of a list of numbers.\n",
    "\n",
    "from collections import defaultdict\n",
    "\n",
    "def find_mode(numbers):\n",
    "    count_dict = defaultdict(int)\n",
    "    \n",
    "    # Count the occurrence of each number\n",
    "    for num in numbers:\n",
    "        count_dict[num] += 1\n",
    "    \n",
    "    # Find the mode(s)\n",
    "    max_count = max(count_dict.values())\n",
    "    mode = [num for num, count in count_dict.items() if count == max_count]\n",
    "    \n",
    "    return mode\n",
    "\n",
    "num = [1, 2, 2, 2, 3, 3, 4, 5, 5, 5, 5, 7, 7, 8, 8, 9]\n",
    "find_mode(num)"
   ]
  },
  {
   "cell_type": "code",
   "execution_count": 27,
   "id": "5a0b0a49-e318-4723-897b-676bcbfcf4c4",
   "metadata": {},
   "outputs": [
    {
     "name": "stdout",
     "output_type": "stream",
     "text": [
      "6\n"
     ]
    }
   ],
   "source": [
    "# 27. Write a program to find the greatest common divisor (GCD) of two numbers.\n",
    "\n",
    "def gcd(a, b):\n",
    "    while b != 0:\n",
    "        a, b = b, a % b\n",
    "    return a\n",
    "\n",
    "num1 = 48\n",
    "num2 = 18\n",
    "result = gcd(num1, num2)\n",
    "print(result) \n"
   ]
  },
  {
   "cell_type": "code",
   "execution_count": 28,
   "id": "0a813163-db22-4354-afc8-53061864d64e",
   "metadata": {},
   "outputs": [
    {
     "data": {
      "text/plain": [
       "4.0"
      ]
     },
     "execution_count": 28,
     "metadata": {},
     "output_type": "execute_result"
    }
   ],
   "source": [
    "# 28. Implement a function to calculate the square root of a given number\n",
    "\n",
    "import math\n",
    "def square_of_num(n):\n",
    "    \n",
    "     #result = math.sqrt(n)\n",
    "    result = n ** 0.5\n",
    "    return round(result,2)\n",
    "\n",
    "square_of_num(16)"
   ]
  },
  {
   "cell_type": "code",
   "execution_count": 29,
   "id": "d6f8737b-542c-4a06-9a50-bab38dd5754d",
   "metadata": {},
   "outputs": [
    {
     "name": "stdout",
     "output_type": "stream",
     "text": [
      "The given string is palindrom\n"
     ]
    }
   ],
   "source": [
    "# 29. Write a Python program to check if a given string is a valid palindrome ignoring non-alphanumeric characters.\n",
    "\n",
    "import re\n",
    "def check_palindrome(string):\n",
    "    \n",
    "    pattern = r'[^a-zA-Z ]'\n",
    "    new_str = re.sub(pattern,\"\",string).lower() \n",
    "\n",
    "    if new_str == new_str[::-1]:\n",
    "        print(\"The given string is palindrom\")\n",
    "        \n",
    "    else:\n",
    "        print(\"The string is not palindrom\")\n",
    "    \n",
    "string = \"MadaM@123\"\n",
    "check_palindrome(string)"
   ]
  },
  {
   "cell_type": "code",
   "execution_count": 31,
   "id": "4d9bcead-7f77-4d63-994c-9a0d55d9279d",
   "metadata": {},
   "outputs": [
    {
     "data": {
      "text/plain": [
       "2"
      ]
     },
     "execution_count": 31,
     "metadata": {},
     "output_type": "execute_result"
    }
   ],
   "source": [
    "# 30. Implement a function to find the minimum element in a rotated sorted list\n",
    "\n",
    "def min_num(List):\n",
    "    \n",
    "    return min(List)\n",
    "\n",
    "List = [2,3,9,5,8,7,2,5]\n",
    "min_num(List)"
   ]
  },
  {
   "cell_type": "code",
   "execution_count": 40,
   "id": "10822104-2ff4-4318-8e9e-84852fe9a6da",
   "metadata": {},
   "outputs": [
    {
     "data": {
      "text/plain": [
       "30"
      ]
     },
     "execution_count": 40,
     "metadata": {},
     "output_type": "execute_result"
    }
   ],
   "source": [
    "# 31. Write a program to find the sum of all even numbers in a list.\n",
    "\n",
    "def sum_of_even_num(List):\n",
    "    \n",
    "    even_sum = 0\n",
    "    odd_sum = 0\n",
    "    \n",
    "    for i in List:\n",
    "        if i % 2 == 0:\n",
    "            even_sum = even_sum + i\n",
    "        \n",
    "        else :\n",
    "            odd_sum = odd_sum + i\n",
    "    \n",
    "    return even_sum\n",
    "\n",
    "List = [1,2,3,4,5,6,7,8,9,10]\n",
    "sum_of_even_num(List)"
   ]
  },
  {
   "cell_type": "code",
   "execution_count": 42,
   "id": "2925fc53-f6e4-4fca-954b-2b394b7bb2c4",
   "metadata": {},
   "outputs": [
    {
     "data": {
      "text/plain": [
       "32"
      ]
     },
     "execution_count": 42,
     "metadata": {},
     "output_type": "execute_result"
    }
   ],
   "source": [
    "# 32. Implement a function to calculate the power of a number using recursion\n",
    "\n",
    "def power(N, P):\n",
    "    \n",
    "    if P == 0:\n",
    "        return 1\n",
    " \n",
    "    # Recurrence relation\n",
    "    return (N*power(N, P-1))\n",
    "\n",
    "power(2,5)"
   ]
  },
  {
   "cell_type": "code",
   "execution_count": 46,
   "id": "8de7f3ea-8f05-4e10-87a2-d71213bbc8b1",
   "metadata": {},
   "outputs": [
    {
     "data": {
      "text/plain": [
       "[2, 3, 4, 6, 5]"
      ]
     },
     "execution_count": 46,
     "metadata": {},
     "output_type": "execute_result"
    }
   ],
   "source": [
    "# 33. Write a Python program to remove duplicates from a list while preserving the order.\n",
    "\n",
    "def remove_duplicates(List):\n",
    "    \n",
    "    new_list = []\n",
    "    for i in List:\n",
    "        if i in new_list:\n",
    "            continue\n",
    "        else:\n",
    "            new_list.append(i)\n",
    "            \n",
    "    return new_list\n",
    "\n",
    "List = [2,3,4,3,6,5,2]\n",
    "remove_duplicates(List)"
   ]
  },
  {
   "cell_type": "code",
   "execution_count": 51,
   "id": "148bd997-b2a0-4957-b307-6b38f9e6ffcb",
   "metadata": {},
   "outputs": [
    {
     "data": {
      "text/plain": [
       "'ap'"
      ]
     },
     "execution_count": 51,
     "metadata": {},
     "output_type": "execute_result"
    }
   ],
   "source": [
    "# 34. Implement a function to find the longest common prefix among a list of strings.\n",
    "\n",
    "def longestCommonPrefix(a):\n",
    "     \n",
    "    size = len(a)\n",
    " \n",
    "    # if size is 0, return empty string\n",
    "    if (size == 0):\n",
    "        return \"\"\n",
    " \n",
    "    if (size == 1):\n",
    "        return a[0]\n",
    " \n",
    "    # sort the array of strings\n",
    "    a.sort()\n",
    "     \n",
    "    # find the minimum length from first and last string\n",
    "    end = min(len(a[0]), len(a[size - 1]))\n",
    " \n",
    "    # find the common prefix between\n",
    "    # the first and last string\n",
    "    i = 0\n",
    "    while (i < end and\n",
    "           a[0][i] == a[size - 1][i]):\n",
    "        i += 1\n",
    " \n",
    "    pre = a[0][0: i]\n",
    "    return pre\n",
    "\n",
    "a = [\"appa\",\"app\",\"aparana\"]\n",
    "longestCommonPrefix(a)"
   ]
  },
  {
   "cell_type": "code",
   "execution_count": 64,
   "id": "7b4774d4-bb20-42f5-a6db-48ddeeb8a9f0",
   "metadata": {},
   "outputs": [
    {
     "name": "stdout",
     "output_type": "stream",
     "text": [
      "The number is a perfect square\n"
     ]
    }
   ],
   "source": [
    "# 35. Write a program to check if a given number is a perfect square.\n",
    "\n",
    "import math\n",
    "def pef_square(n):\n",
    "    \n",
    "    #a = int(math.sqrt(n))\n",
    "    a = int(n**0.5)\n",
    "    if n == a**2 :\n",
    "        print(\"The number is a perfect square\")\n",
    "        \n",
    "    else:\n",
    "        print(\"The number is not the Perfect square\")\n",
    "        \n",
    "pef_square(4)"
   ]
  },
  {
   "cell_type": "code",
   "execution_count": 69,
   "id": "b90974f5-006f-4b3d-855d-38d3b24e8766",
   "metadata": {},
   "outputs": [
    {
     "data": {
      "text/plain": [
       "120"
      ]
     },
     "execution_count": 69,
     "metadata": {},
     "output_type": "execute_result"
    }
   ],
   "source": [
    "# 36. Implement a function to calculate the product of all elements in a list.\n",
    "\n",
    "def prod_of_list(List):\n",
    "    \n",
    "    result = 1\n",
    "    \n",
    "    for i in List:\n",
    "        result = result*i\n",
    "    \n",
    "    return result\n",
    "\n",
    "List = [1,2,3,4,5]\n",
    "prod_of_list(List)"
   ]
  },
  {
   "cell_type": "code",
   "execution_count": 95,
   "id": "336a5a21-1abf-4fc0-8c04-57b43b62f522",
   "metadata": {},
   "outputs": [
    {
     "name": "stdout",
     "output_type": "stream",
     "text": [
      "Ages ago in a village at the foot of a mountain volcano a young hero was born\n"
     ]
    },
    {
     "data": {
      "text/plain": [
       "'segA oga ni a egalliv ta eht toof fo a niatnuom onaclov a gnuoy oreh saw nrob'"
      ]
     },
     "execution_count": 95,
     "metadata": {},
     "output_type": "execute_result"
    }
   ],
   "source": [
    "# 37. Write a Python program to reverse the order of words in a sentence while preserving the word order\n",
    "\n",
    "import re\n",
    "def reverse_sentence(sentence):\n",
    "    \n",
    "    pattern = r'[^a-zA-Z ]'\n",
    "    a = re.sub(pattern,\"\",sentence) # Removing all the symbol and keeping only alphabets.\n",
    "    b=a.split(\" \")\n",
    "    \n",
    "    new_list = []\n",
    "    for i in b:\n",
    "        new_list.append(i[::-1])\n",
    "        \n",
    "    rev_sent = \" \".join(new_list)\n",
    "    print(a)\n",
    "    \n",
    "    return rev_sent\n",
    "\n",
    "sentence = \"Ages ago, in a village at the foot of a mountain volcano, a young hero was born.\"\n",
    "reverse_sentence(sentence)"
   ]
  },
  {
   "cell_type": "code",
   "execution_count": 97,
   "id": "6c873020-2112-4269-be4a-8e2b0d14e367",
   "metadata": {},
   "outputs": [
    {
     "name": "stdout",
     "output_type": "stream",
     "text": [
      "5\n"
     ]
    }
   ],
   "source": [
    "# 38. Implement a function to find the missing number in a given list of consecutive numbers.\n",
    "\n",
    "def findMissing(arr, n):\n",
    " \n",
    "    l, h = 0, n - 1\n",
    "    mid = 0\n",
    " \n",
    "    while (h > l):\n",
    " \n",
    "        mid = l + (h - l) // 2\n",
    " \n",
    "        # Check if middle element is consistent\n",
    "        if (arr[mid] - mid == arr[0]):\n",
    " \n",
    "            # No inconsistency till middle elements\n",
    "            # When missing element is just after\n",
    "            # the middle element\n",
    "            if (arr[mid + 1] - arr[mid] > 1):\n",
    "                return arr[mid] + 1\n",
    "            else:\n",
    " \n",
    "                # Move right\n",
    "                l = mid + 1\n",
    "             \n",
    "        else:\n",
    " \n",
    "            # Inconsistency found\n",
    "            # When missing element is just before\n",
    "            # the middle element\n",
    "            if (arr[mid] - arr[mid - 1] > 1):\n",
    "                return arr[mid] - 1\n",
    "            else:\n",
    " \n",
    "                # Move left\n",
    "                h = mid - 1\n",
    "             \n",
    "    # No missing element found\n",
    "    return -1\n",
    "\n",
    "arr = [1,2,3,4,6,7,8]\n",
    "n = len(arr)\n",
    " \n",
    "print(findMissing(arr, n))\n"
   ]
  },
  {
   "cell_type": "code",
   "execution_count": 109,
   "id": "b39ae061-0d4d-44e8-a402-dce9b2aa030e",
   "metadata": {},
   "outputs": [
    {
     "data": {
      "text/plain": [
       "12"
      ]
     },
     "execution_count": 109,
     "metadata": {},
     "output_type": "execute_result"
    }
   ],
   "source": [
    "# 39. Write a program to find the sum of digits of a given number.\n",
    "\n",
    "def sum_of_digits(n):\n",
    "    \n",
    "    result = 0\n",
    "    for i in str(n):\n",
    "        result = result + int(i)\n",
    "        \n",
    "    return result\n",
    "\n",
    "sum_of_digits(444)"
   ]
  },
  {
   "cell_type": "code",
   "execution_count": 117,
   "id": "5867a636-6565-4bfa-96ba-0d50a8401b6b",
   "metadata": {},
   "outputs": [
    {
     "name": "stdout",
     "output_type": "stream",
     "text": [
      "The given string is palindrom\n",
      "\n",
      "The string is not palindrom\n"
     ]
    }
   ],
   "source": [
    "# 40. Implement a function to check if a given string is a valid palindrome considering case sensitivity.\n",
    "\n",
    "def check_palindrome(string):\n",
    "    \n",
    "    pattern = r'[^a-zA-Z ]'\n",
    "    new_str = re.sub(pattern,\"\",string) \n",
    "\n",
    "    if new_str == new_str[::-1]:\n",
    "        print(\"The given string is palindrom\")\n",
    "        \n",
    "    else:\n",
    "        print(\"The string is not palindrom\")\n",
    "    \n",
    "string = \"madam\"\n",
    "check_palindrome(string)\n",
    "print()\n",
    "\n",
    "string = \"Madam\"\n",
    "check_palindrome(string)"
   ]
  },
  {
   "cell_type": "code",
   "execution_count": 119,
   "id": "7d7b4879-b537-4ad5-8273-4d4908551ce6",
   "metadata": {},
   "outputs": [
    {
     "data": {
      "text/plain": [
       "1"
      ]
     },
     "execution_count": 119,
     "metadata": {},
     "output_type": "execute_result"
    }
   ],
   "source": [
    "# 41. Write a Python program to find the smallest missing positive integer in a list.\n",
    "\n",
    "def solution(A):  # Our original array\n",
    " \n",
    "    m = max(A)  # Storing maximum value\n",
    "    if m < 1:\n",
    " \n",
    "        # In case all values in our array are negative\n",
    "        return 1\n",
    "    if len(A) == 1:\n",
    " \n",
    "        # If it contains only one element\n",
    "        return 2 if A[0] == 1 else 1\n",
    "    l = [0] * m\n",
    "    for i in range(len(A)):\n",
    "        if A[i] > 0:\n",
    "            if l[A[i] - 1] != 1:\n",
    " \n",
    "                # Changing the value status at the index of our list\n",
    "                l[A[i] - 1] = 1\n",
    "    for i in range(len(l)):\n",
    " \n",
    "        # Encountering first 0, i.e, the element with least value\n",
    "        if l[i] == 0:\n",
    "            return i + 1\n",
    "            # In case all values are filled between 1 and m\n",
    "    return i + 2\n",
    "\n",
    "arr = [0, 10, 2, -10, -20]\n",
    "solution(arr)"
   ]
  },
  {
   "cell_type": "code",
   "execution_count": 122,
   "id": "76de58fc-4321-46dc-a2dc-59fd46c461aa",
   "metadata": {},
   "outputs": [
    {
     "name": "stdout",
     "output_type": "stream",
     "text": [
      "Longest palindrome substring is: madam"
     ]
    },
    {
     "data": {
      "text/plain": [
       "5"
      ]
     },
     "execution_count": 122,
     "metadata": {},
     "output_type": "execute_result"
    }
   ],
   "source": [
    "# 42. Implement a function to find the longest palindrome substring in a given string.\n",
    "\n",
    "def printSubStr(str, low, high):\n",
    "    for i in range(low, high + 1):\n",
    "        print(str[i], end=\"\")\n",
    "\n",
    "def longestPalSubstr(str):\n",
    " \n",
    "    # Get length of input String\n",
    "    n = len(str)\n",
    " \n",
    "    # All subStrings of length 1\n",
    "    # are palindromes\n",
    "    maxLength = 1\n",
    "    start = 0\n",
    " \n",
    "    # Nested loop to mark start\n",
    "    # and end index\n",
    "    for i in range(n):\n",
    "        for j in range(i, n):\n",
    "            flag = 1\n",
    " \n",
    "            # Check palindrome\n",
    "            for k in range(0, ((j - i) // 2) + 1):\n",
    "                if (str[i + k] != str[j - k]):\n",
    "                    flag = 0\n",
    " \n",
    "            # Palindrome\n",
    "            if (flag != 0 and (j - i + 1) > maxLength):\n",
    "                start = i\n",
    "                maxLength = j - i + 1\n",
    " \n",
    "    print(\"Longest palindrome substring is: \", end=\"\")\n",
    "    printSubStr(str, start, start + maxLength - 1)\n",
    " \n",
    "    # Return length of LPS\n",
    "    return maxLength\n",
    "\n",
    "string = \"hellomadamhello\"\n",
    "longestPalSubstr(string)"
   ]
  },
  {
   "cell_type": "code",
   "execution_count": 136,
   "id": "f37b42e4-0eae-4dd0-a511-c1b51ee23b9e",
   "metadata": {},
   "outputs": [
    {
     "data": {
      "text/plain": [
       "4"
      ]
     },
     "execution_count": 136,
     "metadata": {},
     "output_type": "execute_result"
    }
   ],
   "source": [
    "# 43. Write a program to find the number of occurrences of a given element in a list.\n",
    "\n",
    "def time_occur(List,n):\n",
    "    \n",
    "    count = 0\n",
    "    \n",
    "    for i in List:\n",
    "        if i == n:\n",
    "            count = count+1\n",
    "        else:\n",
    "            continue \n",
    "            \n",
    "    return count\n",
    "\n",
    "List = [2,3,9,5,8,7,2,5,2,5,2]\n",
    "time_occur(List,2)"
   ]
  },
  {
   "cell_type": "code",
   "execution_count": 138,
   "id": "38e97bd9-d576-4888-9768-4743205cd389",
   "metadata": {},
   "outputs": [
    {
     "name": "stdout",
     "output_type": "stream",
     "text": [
      "The entered number is a perfect number\n"
     ]
    }
   ],
   "source": [
    "# 44. Implement a function to check if a given number is a perfect number.\n",
    "\n",
    "def perfect_square(num): \n",
    "    sum_v=0  \n",
    "    for i in range(1,num):  \n",
    "        if (num%i==0):  \n",
    "            sum_v=sum_v+i  \n",
    "    if(sum_v==num):  \n",
    "        print(\"The entered number is a perfect number\")  \n",
    "    else:  \n",
    "        print(\"The entered number is not a perfect number\") \n",
    "        \n",
    "perfect_square(6)"
   ]
  },
  {
   "cell_type": "code",
   "execution_count": 142,
   "id": "d52a07e5-07cb-49c0-9db2-43a3a74747f7",
   "metadata": {},
   "outputs": [
    {
     "data": {
      "text/plain": [
       "'Abca'"
      ]
     },
     "execution_count": 142,
     "metadata": {},
     "output_type": "execute_result"
    }
   ],
   "source": [
    "# 45. Write a Python program to remove all duplicates from a string.\n",
    "\n",
    "def remove_duplicate(string):\n",
    "    \n",
    "    result = \"\"\n",
    "    \n",
    "    for char in string:\n",
    "        if char not in result:\n",
    "            result =result+char\n",
    "    \n",
    "    return result\n",
    "\n",
    "string = \"Abcabc\"\n",
    "remove_duplicate(string)"
   ]
  },
  {
   "cell_type": "code",
   "execution_count": 149,
   "id": "ff09bc4d-f3f7-4e7f-96bd-27f1e5c03896",
   "metadata": {},
   "outputs": [
    {
     "data": {
      "text/plain": [
       "2"
      ]
     },
     "execution_count": 149,
     "metadata": {},
     "output_type": "execute_result"
    }
   ],
   "source": [
    "# 46. Implement a function to find the first missing positive\n",
    "\n",
    "def firstMissingPositive(nums):\n",
    "        nums_set, i = set(nums), 1\n",
    "        while i in nums_set:\n",
    "            i += 1\n",
    "        return i\n",
    "\n",
    "a = [1,3,4,5]\n",
    "firstMissingPositive(a)"
   ]
  },
  {
   "cell_type": "code",
   "execution_count": null,
   "id": "084ad971-9ecc-4066-8581-919bedb9183d",
   "metadata": {},
   "outputs": [],
   "source": []
  }
 ],
 "metadata": {
  "kernelspec": {
   "display_name": "Python 3 (ipykernel)",
   "language": "python",
   "name": "python3"
  },
  "language_info": {
   "codemirror_mode": {
    "name": "ipython",
    "version": 3
   },
   "file_extension": ".py",
   "mimetype": "text/x-python",
   "name": "python",
   "nbconvert_exporter": "python",
   "pygments_lexer": "ipython3",
   "version": "3.10.6"
  }
 },
 "nbformat": 4,
 "nbformat_minor": 5
}
